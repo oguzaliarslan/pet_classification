{
 "cells": [
  {
   "cell_type": "code",
   "execution_count": 13,
   "id": "2234e3f0",
   "metadata": {},
   "outputs": [],
   "source": [
    "import numpy as np\n",
    "import random\n",
    "import os\n",
    "import matplotlib.pyplot as plt\n",
    "import seaborn as sns\n",
    "from tqdm import tqdm\n",
    "\n",
    "from sklearn.model_selection import train_test_split\n",
    "from sklearn.metrics import confusion_matrix\n",
    "\n",
    "import torch\n",
    "from torch import nn, optim\n",
    "from torchvision import transforms, datasets\n",
    "from torch.utils.data import DataLoader, Dataset\n",
    "import torch.nn.functional as F\n",
    "from torchvision import utils\n",
    "from torchvision.models import list_models"
   ]
  },
  {
   "cell_type": "markdown",
   "id": "07bcc9ff",
   "metadata": {},
   "source": [
    "## Load Data"
   ]
  },
  {
   "cell_type": "code",
   "execution_count": 2,
   "id": "0aacd237",
   "metadata": {},
   "outputs": [],
   "source": [
    "data = torch.load(\"cat_vs_dog_data.pt\")\n",
    "labels = torch.load(\"cat_vs_dog_labels.pt\").reshape((-1,1))"
   ]
  },
  {
   "cell_type": "code",
   "execution_count": 3,
   "id": "e386626e",
   "metadata": {},
   "outputs": [
    {
     "data": {
      "text/plain": [
       "torch.Size([25000, 3, 100, 100])"
      ]
     },
     "execution_count": 3,
     "metadata": {},
     "output_type": "execute_result"
    }
   ],
   "source": [
    "data.shape"
   ]
  },
  {
   "cell_type": "markdown",
   "id": "0f6df317",
   "metadata": {},
   "source": [
    "- data is transformed into 100x100 rgb images"
   ]
  },
  {
   "cell_type": "code",
   "execution_count": 4,
   "id": "16dd9ed7",
   "metadata": {},
   "outputs": [],
   "source": [
    "X_train, X_test, y_train, y_test = train_test_split(data, labels, test_size=0.3, random_state=42)"
   ]
  },
  {
   "cell_type": "code",
   "execution_count": 5,
   "id": "0562561d",
   "metadata": {},
   "outputs": [],
   "source": [
    "# setting dataset for loader\n",
    "class CatvsDogDataset(Dataset):\n",
    "    def __init__(self, data, label, input_size):\n",
    "        super().__init__()\n",
    "        \n",
    "        self.data = data / 255\n",
    "        self.label = label\n",
    "        self.input_size = input_size\n",
    "\n",
    "    def __getitem__(self, index):\n",
    "        # resize the image according to the models input size\n",
    "        img_transform = transforms.Compose([transforms.Resize(input_size, antialias=True)\n",
    "#                                             ,transforms.Normalize(mean=[0.485, 0.456, 0.406], std=[0.229, 0.224, 0.225]),\n",
    "                                           ])\n",
    "        \n",
    "        data_point = img_transform(self.data[index])\n",
    "        data_label = self.label[index]\n",
    "        \n",
    "        return data_point, data_label\n",
    "\n",
    "    def __len__(self):\n",
    "        return self.data.shape[0]"
   ]
  },
  {
   "cell_type": "markdown",
   "id": "23d48a78",
   "metadata": {},
   "source": [
    "## Train and Eval"
   ]
  },
  {
   "cell_type": "code",
   "execution_count": 6,
   "id": "37cc6dda",
   "metadata": {},
   "outputs": [],
   "source": [
    "def train(network, optimizer, loss_fn, train_loader, device):\n",
    "    \n",
    "    true_preds, num_preds = 0., 0.\n",
    "    for train_inputs, train_labels in tqdm(train_loader):\n",
    "\n",
    "        train_inputs = train_inputs.to(device)\n",
    "        train_labels = train_labels.to(device)\n",
    "\n",
    "        preds = network(train_inputs)\n",
    "        \n",
    "        loss = loss_fn(preds, train_labels.float())\n",
    "\n",
    "        optimizer.zero_grad() \n",
    "        loss.backward()\n",
    "        optimizer.step()\n",
    "\n",
    "        # finding and storing the train predictions to find accuracy\n",
    "        with torch.no_grad():\n",
    "            pred_labels = F.sigmoid(preds) > 0.5\n",
    "\n",
    "            true_preds += (pred_labels == train_labels).sum()\n",
    "            num_preds += train_labels.shape[0]\n",
    "\n",
    "    accuracy = ((true_preds / num_preds) * 100).item()\n",
    "\n",
    "    return accuracy, loss\n",
    "\n",
    "def evalf(network, test_loader, device):\n",
    "    \n",
    "    model_preds = []\n",
    "    true_labels = []\n",
    "    eval_info = {}\n",
    "\n",
    "    \n",
    "    true_preds, num_preds = 0., 0.\n",
    "    with torch.no_grad():\n",
    "        for val_inputs, val_labels in tqdm(test_loader):\n",
    "\n",
    "            val_inputs = val_inputs.to(device)\n",
    "            val_labels = val_labels.to(device)\n",
    "            \n",
    "            preds = network(val_inputs)\n",
    "            pred_labels = F.sigmoid(preds) > 0.5\n",
    "            \n",
    "            true_preds += (pred_labels == val_labels).sum()\n",
    "            num_preds += val_labels.shape[0]\n",
    "\n",
    "            model_preds += pred_labels.detach().cpu().numpy().astype(int).tolist()\n",
    "            true_labels += val_labels.detach().cpu().numpy().tolist()\n",
    "            \n",
    "    accuracy = ((true_preds / num_preds) * 100).item()\n",
    "    \n",
    "    eval_info[\"accuracy\"] = accuracy\n",
    "    eval_info[\"model_preds\"] = model_preds\n",
    "    eval_info[\"true_labels\"] = true_labels\n",
    "    \n",
    "    return eval_info"
   ]
  },
  {
   "cell_type": "markdown",
   "id": "4d9b6356",
   "metadata": {},
   "source": [
    "# Pretrained models in Pytorch"
   ]
  },
  {
   "cell_type": "code",
   "execution_count": 7,
   "id": "fa14f4ed",
   "metadata": {},
   "outputs": [
    {
     "data": {
      "text/plain": [
       "['alexnet',\n",
       " 'convnext_base',\n",
       " 'convnext_large',\n",
       " 'convnext_small',\n",
       " 'convnext_tiny',\n",
       " 'deeplabv3_mobilenet_v3_large',\n",
       " 'deeplabv3_resnet101',\n",
       " 'deeplabv3_resnet50',\n",
       " 'densenet121',\n",
       " 'densenet161',\n",
       " 'densenet169',\n",
       " 'densenet201',\n",
       " 'efficientnet_b0',\n",
       " 'efficientnet_b1',\n",
       " 'efficientnet_b2',\n",
       " 'efficientnet_b3',\n",
       " 'efficientnet_b4',\n",
       " 'efficientnet_b5',\n",
       " 'efficientnet_b6',\n",
       " 'efficientnet_b7',\n",
       " 'efficientnet_v2_l',\n",
       " 'efficientnet_v2_m',\n",
       " 'efficientnet_v2_s',\n",
       " 'fasterrcnn_mobilenet_v3_large_320_fpn',\n",
       " 'fasterrcnn_mobilenet_v3_large_fpn',\n",
       " 'fasterrcnn_resnet50_fpn',\n",
       " 'fasterrcnn_resnet50_fpn_v2',\n",
       " 'fcn_resnet101',\n",
       " 'fcn_resnet50',\n",
       " 'fcos_resnet50_fpn',\n",
       " 'googlenet',\n",
       " 'inception_v3',\n",
       " 'keypointrcnn_resnet50_fpn',\n",
       " 'lraspp_mobilenet_v3_large',\n",
       " 'maskrcnn_resnet50_fpn',\n",
       " 'maskrcnn_resnet50_fpn_v2',\n",
       " 'maxvit_t',\n",
       " 'mc3_18',\n",
       " 'mnasnet0_5',\n",
       " 'mnasnet0_75',\n",
       " 'mnasnet1_0',\n",
       " 'mnasnet1_3',\n",
       " 'mobilenet_v2',\n",
       " 'mobilenet_v3_large',\n",
       " 'mobilenet_v3_small',\n",
       " 'mvit_v1_b',\n",
       " 'mvit_v2_s',\n",
       " 'quantized_googlenet',\n",
       " 'quantized_inception_v3',\n",
       " 'quantized_mobilenet_v2',\n",
       " 'quantized_mobilenet_v3_large',\n",
       " 'quantized_resnet18',\n",
       " 'quantized_resnet50',\n",
       " 'quantized_resnext101_32x8d',\n",
       " 'quantized_resnext101_64x4d',\n",
       " 'quantized_shufflenet_v2_x0_5',\n",
       " 'quantized_shufflenet_v2_x1_0',\n",
       " 'quantized_shufflenet_v2_x1_5',\n",
       " 'quantized_shufflenet_v2_x2_0',\n",
       " 'r2plus1d_18',\n",
       " 'r3d_18',\n",
       " 'raft_large',\n",
       " 'raft_small',\n",
       " 'regnet_x_16gf',\n",
       " 'regnet_x_1_6gf',\n",
       " 'regnet_x_32gf',\n",
       " 'regnet_x_3_2gf',\n",
       " 'regnet_x_400mf',\n",
       " 'regnet_x_800mf',\n",
       " 'regnet_x_8gf',\n",
       " 'regnet_y_128gf',\n",
       " 'regnet_y_16gf',\n",
       " 'regnet_y_1_6gf',\n",
       " 'regnet_y_32gf',\n",
       " 'regnet_y_3_2gf',\n",
       " 'regnet_y_400mf',\n",
       " 'regnet_y_800mf',\n",
       " 'regnet_y_8gf',\n",
       " 'resnet101',\n",
       " 'resnet152',\n",
       " 'resnet18',\n",
       " 'resnet34',\n",
       " 'resnet50',\n",
       " 'resnext101_32x8d',\n",
       " 'resnext101_64x4d',\n",
       " 'resnext50_32x4d',\n",
       " 'retinanet_resnet50_fpn',\n",
       " 'retinanet_resnet50_fpn_v2',\n",
       " 's3d',\n",
       " 'shufflenet_v2_x0_5',\n",
       " 'shufflenet_v2_x1_0',\n",
       " 'shufflenet_v2_x1_5',\n",
       " 'shufflenet_v2_x2_0',\n",
       " 'squeezenet1_0',\n",
       " 'squeezenet1_1',\n",
       " 'ssd300_vgg16',\n",
       " 'ssdlite320_mobilenet_v3_large',\n",
       " 'swin3d_b',\n",
       " 'swin3d_s',\n",
       " 'swin3d_t',\n",
       " 'swin_b',\n",
       " 'swin_s',\n",
       " 'swin_t',\n",
       " 'swin_v2_b',\n",
       " 'swin_v2_s',\n",
       " 'swin_v2_t',\n",
       " 'vgg11',\n",
       " 'vgg11_bn',\n",
       " 'vgg13',\n",
       " 'vgg13_bn',\n",
       " 'vgg16',\n",
       " 'vgg16_bn',\n",
       " 'vgg19',\n",
       " 'vgg19_bn',\n",
       " 'vit_b_16',\n",
       " 'vit_b_32',\n",
       " 'vit_h_14',\n",
       " 'vit_l_16',\n",
       " 'vit_l_32',\n",
       " 'wide_resnet101_2',\n",
       " 'wide_resnet50_2']"
      ]
     },
     "execution_count": 7,
     "metadata": {},
     "output_type": "execute_result"
    }
   ],
   "source": [
    "list_models()"
   ]
  },
  {
   "cell_type": "markdown",
   "id": "e8c2b575",
   "metadata": {},
   "source": [
    "## InceptionV3\n",
    "- InceptionV3 takes 299x299 images as input"
   ]
  },
  {
   "cell_type": "code",
   "execution_count": 8,
   "id": "43683a0f",
   "metadata": {},
   "outputs": [],
   "source": [
    "class InceptionV3Backboned(nn.Module):\n",
    "    def __init__(self):\n",
    "        super(InceptionV3Backboned, self).__init__()\n",
    "        # Load pretrained InceptionV3\n",
    "        self.inceptionv3 = torch.hub.load(\"pytorch/vision:v0.10.0\", \"inception_v3\", weights=\"DEFAULT\")\n",
    "        \n",
    "        # some other thing related with inception model\n",
    "        self.inceptionv3.aux_logits = False\n",
    "\n",
    "        # freezing the inception parameters\n",
    "        for param in self.inceptionv3.parameters():\n",
    "            param.requires_grad = False\n",
    "\n",
    "        self.relu = nn.ReLU()\n",
    "        self.dropout = nn.Dropout(0.3)\n",
    "\n",
    "        self.bn1 = nn.BatchNorm1d(1000)\n",
    "        self.linear1 = torch.nn.Linear(1000, 256)\n",
    "        self.bn2 = nn.BatchNorm1d(256)\n",
    "        self.linear2 = torch.nn.Linear(256, 1)\n",
    "\n",
    "    def forward(self, x):\n",
    "\n",
    "\n",
    "        x = self.inceptionv3(x)\n",
    "        x = self.relu(self.bn1(x))\n",
    "        x = self.dropout(x)\n",
    "        x = self.linear1(x)\n",
    "        x = self.relu(self.bn2(x))\n",
    "        x = self.dropout(x)\n",
    "        x = self.linear2(x)\n",
    "\n",
    "        return x"
   ]
  },
  {
   "cell_type": "markdown",
   "id": "5d2492b5",
   "metadata": {},
   "source": [
    "### Set Network Settings"
   ]
  },
  {
   "cell_type": "code",
   "execution_count": 9,
   "id": "f0afaf94",
   "metadata": {},
   "outputs": [
    {
     "name": "stderr",
     "output_type": "stream",
     "text": [
      "Using cache found in C:\\Users\\erdem/.cache\\torch\\hub\\pytorch_vision_v0.10.0\n"
     ]
    }
   ],
   "source": [
    "device = \"cuda\" if torch.cuda.is_available() else \"cpu\"\n",
    "# device = \"cpu\"\n",
    "epochs = 5\n",
    "input_size = 299\n",
    "\n",
    "inception_train_loader = DataLoader(CatvsDogDataset(X_train, y_train, input_size), batch_size=32, shuffle=True)\n",
    "inception_test_loader = DataLoader(CatvsDogDataset(X_test, y_test, input_size), shuffle=False)\n",
    "\n",
    "net = InceptionV3Backboned().to(device)\n",
    "optimizer = optim.Adam(net.parameters())\n",
    "criterion = nn.BCEWithLogitsLoss()"
   ]
  },
  {
   "cell_type": "markdown",
   "id": "ecb80079",
   "metadata": {},
   "source": [
    "### Training"
   ]
  },
  {
   "cell_type": "code",
   "execution_count": 10,
   "id": "f113291e",
   "metadata": {},
   "outputs": [
    {
     "name": "stderr",
     "output_type": "stream",
     "text": [
      "100%|████████████████████████████████████████████████████████████████████████████████| 547/547 [01:12<00:00,  7.58it/s]\n"
     ]
    },
    {
     "name": "stdout",
     "output_type": "stream",
     "text": [
      "Epoch-1:\n",
      "Train Accuracy: 92.54857635498047\n",
      "Train Loss: 0.05955461412668228\n"
     ]
    },
    {
     "name": "stderr",
     "output_type": "stream",
     "text": [
      "100%|████████████████████████████████████████████████████████████████████████████████| 547/547 [01:11<00:00,  7.69it/s]\n"
     ]
    },
    {
     "name": "stdout",
     "output_type": "stream",
     "text": [
      "Epoch-2:\n",
      "Train Accuracy: 93.70857238769531\n",
      "Train Loss: 0.15766069293022156\n"
     ]
    },
    {
     "name": "stderr",
     "output_type": "stream",
     "text": [
      "100%|████████████████████████████████████████████████████████████████████████████████| 547/547 [01:11<00:00,  7.68it/s]\n"
     ]
    },
    {
     "name": "stdout",
     "output_type": "stream",
     "text": [
      "Epoch-3:\n",
      "Train Accuracy: 94.01142883300781\n",
      "Train Loss: 0.17256680130958557\n"
     ]
    },
    {
     "name": "stderr",
     "output_type": "stream",
     "text": [
      "100%|████████████████████████████████████████████████████████████████████████████████| 547/547 [01:11<00:00,  7.68it/s]\n"
     ]
    },
    {
     "name": "stdout",
     "output_type": "stream",
     "text": [
      "Epoch-4:\n",
      "Train Accuracy: 94.17143249511719\n",
      "Train Loss: 0.17098277807235718\n"
     ]
    },
    {
     "name": "stderr",
     "output_type": "stream",
     "text": [
      "100%|████████████████████████████████████████████████████████████████████████████████| 547/547 [01:11<00:00,  7.68it/s]\n"
     ]
    },
    {
     "name": "stdout",
     "output_type": "stream",
     "text": [
      "Epoch-5:\n",
      "Train Accuracy: 94.11428833007812\n",
      "Train Loss: 0.15145321190357208\n"
     ]
    },
    {
     "name": "stderr",
     "output_type": "stream",
     "text": [
      "100%|██████████████████████████████████████████████████████████████████████████████| 7500/7500 [02:49<00:00, 44.14it/s]\n"
     ]
    }
   ],
   "source": [
    "train_accs = []\n",
    "train_losses = []\n",
    "\n",
    "\n",
    "net.train()\n",
    "\n",
    "for e in range(epochs):\n",
    "    acc, l = train(net, optimizer, criterion, inception_train_loader, device)\n",
    "\n",
    "    train_accs.append(acc)\n",
    "    train_losses.append(l)\n",
    "\n",
    "    print(f\"Epoch-{e+1}:\")\n",
    "    print(f\"Train Accuracy: {acc}\\nTrain Loss: {l}\")\n",
    "\n",
    "    \n",
    "net.eval()    \n",
    "\n",
    "evals = evalf(net, inception_test_loader, device)"
   ]
  },
  {
   "cell_type": "code",
   "execution_count": 40,
   "id": "8923d36d",
   "metadata": {},
   "outputs": [
    {
     "name": "stdout",
     "output_type": "stream",
     "text": [
      "Test Accuracy: 95.76000213623047\n"
     ]
    },
    {
     "data": {
      "image/png": "[encoded data removed]",
      "text/plain": [
       "<Figure size 640x480 with 2 Axes>"
      ]
     },
     "metadata": {},
     "output_type": "display_data"
    }
   ],
   "source": [
    "print(f\"Test Accuracy: {evals['accuracy']}\")\n",
    "\n",
    "plt.figure()\n",
    "sns.heatmap(confusion_matrix(evals[\"true_labels\"], evals[\"model_preds\"]),\n",
    "            annot=True, fmt=\".0f\", cmap=\"Blues\",\n",
    "            annot_kws={\"size\":15},\n",
    "            xticklabels=[\"Dog\", \"Cat\"],\n",
    "            yticklabels=[\"Dog\", \"Cat\"])\n",
    "plt.title(\"InceptionV3 Cat-vs-Dog Conf. Matrix\")\n",
    "plt.xlabel(\"Preds\")\n",
    "plt.ylabel(\"Labels\")\n",
    "\n",
    "plt.show()"
   ]
  },
  {
   "cell_type": "markdown",
   "id": "d4289f90",
   "metadata": {},
   "source": [
    "## VGG19-BN"
   ]
  },
  {
   "cell_type": "code",
   "execution_count": null,
   "id": "25dc3332",
   "metadata": {},
   "outputs": [],
   "source": [
    "vgg19_bn = torch.hub.load(\"pytorch/vision:v0.10.0\", \"vgg19_bn\", weights=\"DEFAULT\")"
   ]
  }
 ],
 "metadata": {
  "kernelspec": {
   "display_name": "Python 3 (ipykernel)",
   "language": "python",
   "name": "python3"
  },
  "language_info": {
   "codemirror_mode": {
    "name": "ipython",
    "version": 3
   },
   "file_extension": ".py",
   "mimetype": "text/x-python",
   "name": "python",
   "nbconvert_exporter": "python",
   "pygments_lexer": "ipython3",
   "version": "3.9.16"
  }
 },
 "nbformat": 4,
 "nbformat_minor": 5
}
