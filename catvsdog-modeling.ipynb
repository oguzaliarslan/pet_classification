{
 "cells": [
  {
   "cell_type": "code",
   "execution_count": 1,
   "id": "2234e3f0",
   "metadata": {},
   "outputs": [],
   "source": [
    "import numpy as np\n",
    "import random\n",
    "import os\n",
    "import matplotlib.pyplot as plt\n",
    "import seaborn as sns\n",
    "from tqdm import tqdm\n",
    "\n",
    "import pickle\n",
    "import time\n",
    "\n",
    "from sklearn.model_selection import train_test_split\n",
    "from sklearn.metrics import confusion_matrix\n",
    "\n",
    "import torch\n",
    "from torch import nn, optim\n",
    "from torchvision import transforms, datasets\n",
    "from torch.utils.data import DataLoader, Dataset\n",
    "import torch.nn.functional as F\n",
    "from torchvision import utils\n",
    "from torchvision.models import list_models\n",
    "\n",
    "from cat_vs_dog_helpers import train, evalf, experiment_pipeline, plot_results"
   ]
  },
  {
   "cell_type": "markdown",
   "id": "07bcc9ff",
   "metadata": {},
   "source": [
    "## Load Data"
   ]
  },
  {
   "cell_type": "code",
   "execution_count": 2,
   "id": "0aacd237",
   "metadata": {},
   "outputs": [],
   "source": [
    "data = torch.load(\"cat_vs_dog_data.pt\")\n",
    "labels = torch.load(\"cat_vs_dog_labels.pt\").reshape((-1,1))"
   ]
  },
  {
   "cell_type": "code",
   "execution_count": 3,
   "id": "e386626e",
   "metadata": {},
   "outputs": [
    {
     "data": {
      "text/plain": [
       "torch.Size([25000, 3, 100, 100])"
      ]
     },
     "execution_count": 3,
     "metadata": {},
     "output_type": "execute_result"
    }
   ],
   "source": [
    "data.shape"
   ]
  },
  {
   "cell_type": "markdown",
   "id": "0f6df317",
   "metadata": {},
   "source": [
    "- data is transformed into 100x100 rgb images"
   ]
  },
  {
   "cell_type": "code",
   "execution_count": 4,
   "id": "16dd9ed7",
   "metadata": {},
   "outputs": [],
   "source": [
    "X_train, X_test, y_train, y_test = train_test_split(data, labels, test_size=0.3, random_state=42)"
   ]
  },
  {
   "cell_type": "markdown",
   "id": "4d9b6356",
   "metadata": {},
   "source": [
    "# Pretrained models in Pytorch"
   ]
  },
  {
   "cell_type": "code",
   "execution_count": 5,
   "id": "fa14f4ed",
   "metadata": {},
   "outputs": [
    {
     "data": {
      "text/plain": [
       "['alexnet',\n",
       " 'convnext_base',\n",
       " 'convnext_large',\n",
       " 'convnext_small',\n",
       " 'convnext_tiny',\n",
       " 'deeplabv3_mobilenet_v3_large',\n",
       " 'deeplabv3_resnet101',\n",
       " 'deeplabv3_resnet50',\n",
       " 'densenet121',\n",
       " 'densenet161',\n",
       " 'densenet169',\n",
       " 'densenet201',\n",
       " 'efficientnet_b0',\n",
       " 'efficientnet_b1',\n",
       " 'efficientnet_b2',\n",
       " 'efficientnet_b3',\n",
       " 'efficientnet_b4',\n",
       " 'efficientnet_b5',\n",
       " 'efficientnet_b6',\n",
       " 'efficientnet_b7',\n",
       " 'efficientnet_v2_l',\n",
       " 'efficientnet_v2_m',\n",
       " 'efficientnet_v2_s',\n",
       " 'fasterrcnn_mobilenet_v3_large_320_fpn',\n",
       " 'fasterrcnn_mobilenet_v3_large_fpn',\n",
       " 'fasterrcnn_resnet50_fpn',\n",
       " 'fasterrcnn_resnet50_fpn_v2',\n",
       " 'fcn_resnet101',\n",
       " 'fcn_resnet50',\n",
       " 'fcos_resnet50_fpn',\n",
       " 'googlenet',\n",
       " 'inception_v3',\n",
       " 'keypointrcnn_resnet50_fpn',\n",
       " 'lraspp_mobilenet_v3_large',\n",
       " 'maskrcnn_resnet50_fpn',\n",
       " 'maskrcnn_resnet50_fpn_v2',\n",
       " 'maxvit_t',\n",
       " 'mc3_18',\n",
       " 'mnasnet0_5',\n",
       " 'mnasnet0_75',\n",
       " 'mnasnet1_0',\n",
       " 'mnasnet1_3',\n",
       " 'mobilenet_v2',\n",
       " 'mobilenet_v3_large',\n",
       " 'mobilenet_v3_small',\n",
       " 'mvit_v1_b',\n",
       " 'mvit_v2_s',\n",
       " 'quantized_googlenet',\n",
       " 'quantized_inception_v3',\n",
       " 'quantized_mobilenet_v2',\n",
       " 'quantized_mobilenet_v3_large',\n",
       " 'quantized_resnet18',\n",
       " 'quantized_resnet50',\n",
       " 'quantized_resnext101_32x8d',\n",
       " 'quantized_resnext101_64x4d',\n",
       " 'quantized_shufflenet_v2_x0_5',\n",
       " 'quantized_shufflenet_v2_x1_0',\n",
       " 'quantized_shufflenet_v2_x1_5',\n",
       " 'quantized_shufflenet_v2_x2_0',\n",
       " 'r2plus1d_18',\n",
       " 'r3d_18',\n",
       " 'raft_large',\n",
       " 'raft_small',\n",
       " 'regnet_x_16gf',\n",
       " 'regnet_x_1_6gf',\n",
       " 'regnet_x_32gf',\n",
       " 'regnet_x_3_2gf',\n",
       " 'regnet_x_400mf',\n",
       " 'regnet_x_800mf',\n",
       " 'regnet_x_8gf',\n",
       " 'regnet_y_128gf',\n",
       " 'regnet_y_16gf',\n",
       " 'regnet_y_1_6gf',\n",
       " 'regnet_y_32gf',\n",
       " 'regnet_y_3_2gf',\n",
       " 'regnet_y_400mf',\n",
       " 'regnet_y_800mf',\n",
       " 'regnet_y_8gf',\n",
       " 'resnet101',\n",
       " 'resnet152',\n",
       " 'resnet18',\n",
       " 'resnet34',\n",
       " 'resnet50',\n",
       " 'resnext101_32x8d',\n",
       " 'resnext101_64x4d',\n",
       " 'resnext50_32x4d',\n",
       " 'retinanet_resnet50_fpn',\n",
       " 'retinanet_resnet50_fpn_v2',\n",
       " 's3d',\n",
       " 'shufflenet_v2_x0_5',\n",
       " 'shufflenet_v2_x1_0',\n",
       " 'shufflenet_v2_x1_5',\n",
       " 'shufflenet_v2_x2_0',\n",
       " 'squeezenet1_0',\n",
       " 'squeezenet1_1',\n",
       " 'ssd300_vgg16',\n",
       " 'ssdlite320_mobilenet_v3_large',\n",
       " 'swin3d_b',\n",
       " 'swin3d_s',\n",
       " 'swin3d_t',\n",
       " 'swin_b',\n",
       " 'swin_s',\n",
       " 'swin_t',\n",
       " 'swin_v2_b',\n",
       " 'swin_v2_s',\n",
       " 'swin_v2_t',\n",
       " 'vgg11',\n",
       " 'vgg11_bn',\n",
       " 'vgg13',\n",
       " 'vgg13_bn',\n",
       " 'vgg16',\n",
       " 'vgg16_bn',\n",
       " 'vgg19',\n",
       " 'vgg19_bn',\n",
       " 'vit_b_16',\n",
       " 'vit_b_32',\n",
       " 'vit_h_14',\n",
       " 'vit_l_16',\n",
       " 'vit_l_32',\n",
       " 'wide_resnet101_2',\n",
       " 'wide_resnet50_2']"
      ]
     },
     "execution_count": 5,
     "metadata": {},
     "output_type": "execute_result"
    }
   ],
   "source": [
    "list_models()"
   ]
  },
  {
   "cell_type": "markdown",
   "id": "90984f04",
   "metadata": {},
   "source": [
    "Models:\n",
    "- Alexnet\n",
    "- VGG19BN\n",
    "- InceptionV3\n",
    "- DenseNet\n",
    "- Resnet\n",
    "- MobileNetV3"
   ]
  },
  {
   "cell_type": "markdown",
   "id": "c97c69d8",
   "metadata": {},
   "source": [
    "## AlexNet"
   ]
  },
  {
   "cell_type": "code",
   "execution_count": 6,
   "id": "8b7de835",
   "metadata": {},
   "outputs": [
    {
     "name": "stderr",
     "output_type": "stream",
     "text": [
      "Using cache found in C:\\Users\\erdem/.cache\\torch\\hub\\pytorch_vision_v0.10.0\n",
      "100%|████████████████████████████████████████████████████████████████████████████████| 547/547 [00:29<00:00, 18.40it/s]\n"
     ]
    },
    {
     "name": "stdout",
     "output_type": "stream",
     "text": [
      "Epoch-1:\n",
      "Train Accuracy: 80.47428894042969\n",
      "Train Loss: 0.3263627886772156\n"
     ]
    },
    {
     "name": "stderr",
     "output_type": "stream",
     "text": [
      "100%|████████████████████████████████████████████████████████████████████████████████| 547/547 [00:26<00:00, 20.51it/s]\n"
     ]
    },
    {
     "name": "stdout",
     "output_type": "stream",
     "text": [
      "Epoch-2:\n",
      "Train Accuracy: 81.9028549194336\n",
      "Train Loss: 0.37319719791412354\n"
     ]
    },
    {
     "name": "stderr",
     "output_type": "stream",
     "text": [
      "100%|████████████████████████████████████████████████████████████████████████████████| 547/547 [00:26<00:00, 20.47it/s]\n"
     ]
    },
    {
     "name": "stdout",
     "output_type": "stream",
     "text": [
      "Epoch-3:\n",
      "Train Accuracy: 82.57142639160156\n",
      "Train Loss: 0.3463220000267029\n"
     ]
    },
    {
     "name": "stderr",
     "output_type": "stream",
     "text": [
      "100%|████████████████████████████████████████████████████████████████████████████████| 547/547 [00:26<00:00, 20.47it/s]\n"
     ]
    },
    {
     "name": "stdout",
     "output_type": "stream",
     "text": [
      "Epoch-4:\n",
      "Train Accuracy: 82.82286071777344\n",
      "Train Loss: 0.6017994284629822\n"
     ]
    },
    {
     "name": "stderr",
     "output_type": "stream",
     "text": [
      "100%|████████████████████████████████████████████████████████████████████████████████| 547/547 [00:26<00:00, 20.50it/s]\n"
     ]
    },
    {
     "name": "stdout",
     "output_type": "stream",
     "text": [
      "Epoch-5:\n",
      "Train Accuracy: 83.04000091552734\n",
      "Train Loss: 0.27381500601768494\n"
     ]
    },
    {
     "name": "stderr",
     "output_type": "stream",
     "text": [
      "100%|██████████████████████████████████████████████████████████████████████████████| 7500/7500 [01:28<00:00, 85.22it/s]\n"
     ]
    },
    {
     "name": "stdout",
     "output_type": "stream",
     "text": [
      "Test Accuracy: 86.42666625976562\n"
     ]
    },
    {
     "data": {
      "image/png": "[encoded data removed]",
      "text/plain": [
       "<Figure size 640x480 with 2 Axes>"
      ]
     },
     "metadata": {},
     "output_type": "display_data"
    }
   ],
   "source": [
    "class AlexNetBackboned(nn.Module):\n",
    "    def __init__(self):\n",
    "        super(AlexNetBackboned, self).__init__()\n",
    "        # Load pretrained alexnet\n",
    "        self.alexnet = torch.hub.load(\"pytorch/vision:v0.10.0\", \"alexnet\", weights=\"DEFAULT\")\n",
    "\n",
    "        # freezing the alexnet parameters\n",
    "        for param in self.alexnet.parameters():\n",
    "            param.requires_grad = False\n",
    "\n",
    "        self.relu = nn.ReLU()\n",
    "        self.dropout = nn.Dropout(0.3)\n",
    "\n",
    "        self.bn1 = nn.BatchNorm1d(1000)\n",
    "        self.linear1 = torch.nn.Linear(1000, 256)\n",
    "        self.bn2 = nn.BatchNorm1d(256)\n",
    "        self.linear2 = torch.nn.Linear(256, 1)\n",
    "\n",
    "    def forward(self, x):\n",
    "\n",
    "\n",
    "        x = self.alexnet(x)\n",
    "        x = self.relu(self.bn1(x))\n",
    "        x = self.dropout(x)\n",
    "        x = self.linear1(x)\n",
    "        x = self.relu(self.bn2(x))\n",
    "        x = self.dropout(x)\n",
    "        x = self.linear2(x)\n",
    "\n",
    "        return x\n",
    "    \n",
    "device = \"cuda\" if torch.cuda.is_available() else \"cpu\"\n",
    "# device = \"cpu\"\n",
    "epochs = 5\n",
    "input_size = 227\n",
    "\n",
    "batch_size = 32\n",
    "\n",
    "net = AlexNetBackboned().to(device)\n",
    "optimizer = optim.Adam(net.parameters())\n",
    "criterion = nn.BCEWithLogitsLoss()\n",
    "\n",
    "start = time.time()\n",
    "\n",
    "alexnet_evals = experiment_pipeline(net, X_train, y_train, X_test, y_test, optimizer,\n",
    "                    criterion, batch_size, epochs, input_size, device)\n",
    "\n",
    "alexnet_evals[\"experiment_time\"] = time.time() - start\n",
    "\n",
    "torch.save(alexnet_evals, \"alexnet_results.pt\")\n",
    "torch.save(net, \"alexnet_model.pt\")"
   ]
  },
  {
   "cell_type": "markdown",
   "id": "d4289f90",
   "metadata": {},
   "source": [
    "## VGG19-BN"
   ]
  },
  {
   "cell_type": "code",
   "execution_count": 13,
   "id": "24a65db0",
   "metadata": {},
   "outputs": [
    {
     "name": "stderr",
     "output_type": "stream",
     "text": [
      "Using cache found in C:\\Users\\erdem/.cache\\torch\\hub\\pytorch_vision_v0.10.0\n",
      "100%|████████████████████████████████████████████████████████████████████████████████| 547/547 [02:05<00:00,  4.35it/s]\n"
     ]
    },
    {
     "name": "stdout",
     "output_type": "stream",
     "text": [
      "Epoch-1:\n",
      "Train Accuracy: 94.98285675048828\n",
      "Train Loss: 0.16567333042621613\n"
     ]
    },
    {
     "name": "stderr",
     "output_type": "stream",
     "text": [
      "100%|████████████████████████████████████████████████████████████████████████████████| 547/547 [02:06<00:00,  4.34it/s]\n"
     ]
    },
    {
     "name": "stdout",
     "output_type": "stream",
     "text": [
      "Epoch-2:\n",
      "Train Accuracy: 95.53142547607422\n",
      "Train Loss: 0.016615822911262512\n"
     ]
    },
    {
     "name": "stderr",
     "output_type": "stream",
     "text": [
      "100%|████████████████████████████████████████████████████████████████████████████████| 547/547 [02:06<00:00,  4.33it/s]\n"
     ]
    },
    {
     "name": "stdout",
     "output_type": "stream",
     "text": [
      "Epoch-3:\n",
      "Train Accuracy: 95.95428466796875\n",
      "Train Loss: 0.14461231231689453\n"
     ]
    },
    {
     "name": "stderr",
     "output_type": "stream",
     "text": [
      "100%|████████████████████████████████████████████████████████████████████████████████| 547/547 [02:06<00:00,  4.33it/s]\n"
     ]
    },
    {
     "name": "stdout",
     "output_type": "stream",
     "text": [
      "Epoch-4:\n",
      "Train Accuracy: 96.0857162475586\n",
      "Train Loss: 0.03655537962913513\n"
     ]
    },
    {
     "name": "stderr",
     "output_type": "stream",
     "text": [
      "100%|████████████████████████████████████████████████████████████████████████████████| 547/547 [02:06<00:00,  4.33it/s]\n"
     ]
    },
    {
     "name": "stdout",
     "output_type": "stream",
     "text": [
      "Epoch-5:\n",
      "Train Accuracy: 96.24000549316406\n",
      "Train Loss: 0.027001505717635155\n"
     ]
    },
    {
     "name": "stderr",
     "output_type": "stream",
     "text": [
      "100%|██████████████████████████████████████████████████████████████████████████████| 7500/7500 [02:00<00:00, 62.21it/s]\n"
     ]
    },
    {
     "name": "stdout",
     "output_type": "stream",
     "text": [
      "Test Accuracy: 97.33333587646484\n"
     ]
    },
    {
     "data": {
      "image/png": "[encoded data removed]",
      "text/plain": [
       "<Figure size 640x480 with 2 Axes>"
      ]
     },
     "metadata": {},
     "output_type": "display_data"
    }
   ],
   "source": [
    "class VGG19BNBackboned(nn.Module):\n",
    "    def __init__(self):\n",
    "        super(VGG19BNBackboned, self).__init__()\n",
    "        # Load pretrained vgg19_bn\n",
    "        self.vgg19_bn = torch.hub.load(\"pytorch/vision:v0.10.0\", \"vgg19_bn\", weights=\"DEFAULT\")\n",
    "\n",
    "        # freezing the vgg parameters\n",
    "        for param in self.vgg19_bn.parameters():\n",
    "            param.requires_grad = False\n",
    "\n",
    "        self.relu = nn.ReLU()\n",
    "        self.dropout = nn.Dropout(0.3)\n",
    "\n",
    "        self.bn1 = nn.BatchNorm1d(1000)\n",
    "        self.linear1 = torch.nn.Linear(1000, 256)\n",
    "        self.bn2 = nn.BatchNorm1d(256)\n",
    "        self.linear2 = torch.nn.Linear(256, 1)\n",
    "\n",
    "    def forward(self, x):\n",
    "\n",
    "\n",
    "        x = self.vgg19_bn(x)\n",
    "        x = self.relu(self.bn1(x))\n",
    "        x = self.dropout(x)\n",
    "        x = self.linear1(x)\n",
    "        x = self.relu(self.bn2(x))\n",
    "        x = self.dropout(x)\n",
    "        x = self.linear2(x)\n",
    "\n",
    "        return x\n",
    "    \n",
    "device = \"cuda\" if torch.cuda.is_available() else \"cpu\"\n",
    "epochs = 5\n",
    "input_size = 224\n",
    "\n",
    "batch_size = 32\n",
    "\n",
    "net = VGG19BNBackboned().to(device)\n",
    "optimizer = optim.Adam(net.parameters())\n",
    "criterion = nn.BCEWithLogitsLoss()\n",
    "\n",
    "start = time.time()\n",
    "\n",
    "vgg_evals = experiment_pipeline(net, X_train, y_train, X_test, y_test, optimizer,\n",
    "                    criterion, batch_size, epochs, input_size, device)\n",
    "\n",
    "vgg_evals[\"experiment_time\"] = time.time() - start\n",
    "\n",
    "torch.save(vgg_evals, \"vgg19_bn_results.pt\")\n",
    "torch.save(net, \"vgg19_bn_model.pt\")"
   ]
  },
  {
   "cell_type": "markdown",
   "id": "e8c2b575",
   "metadata": {},
   "source": [
    "## InceptionV3"
   ]
  },
  {
   "cell_type": "code",
   "execution_count": 8,
   "id": "43683a0f",
   "metadata": {},
   "outputs": [
    {
     "name": "stderr",
     "output_type": "stream",
     "text": [
      "Using cache found in C:\\Users\\erdem/.cache\\torch\\hub\\pytorch_vision_v0.10.0\n",
      "100%|████████████████████████████████████████████████████████████████████████████████| 547/547 [02:28<00:00,  3.69it/s]\n"
     ]
    },
    {
     "name": "stdout",
     "output_type": "stream",
     "text": [
      "Epoch-1:\n",
      "Train Accuracy: 94.95428466796875\n",
      "Train Loss: 0.14774613082408905\n"
     ]
    },
    {
     "name": "stderr",
     "output_type": "stream",
     "text": [
      "100%|████████████████████████████████████████████████████████████████████████████████| 547/547 [02:27<00:00,  3.70it/s]\n"
     ]
    },
    {
     "name": "stdout",
     "output_type": "stream",
     "text": [
      "Epoch-2:\n",
      "Train Accuracy: 95.5771484375\n",
      "Train Loss: 0.28733962774276733\n"
     ]
    },
    {
     "name": "stderr",
     "output_type": "stream",
     "text": [
      "100%|████████████████████████████████████████████████████████████████████████████████| 547/547 [02:20<00:00,  3.90it/s]\n"
     ]
    },
    {
     "name": "stdout",
     "output_type": "stream",
     "text": [
      "Epoch-3:\n",
      "Train Accuracy: 95.6971435546875\n",
      "Train Loss: 0.08782760053873062\n"
     ]
    },
    {
     "name": "stderr",
     "output_type": "stream",
     "text": [
      "100%|████████████████████████████████████████████████████████████████████████████████| 547/547 [02:20<00:00,  3.90it/s]\n"
     ]
    },
    {
     "name": "stdout",
     "output_type": "stream",
     "text": [
      "Epoch-4:\n",
      "Train Accuracy: 96.182861328125\n",
      "Train Loss: 0.08355781435966492\n"
     ]
    },
    {
     "name": "stderr",
     "output_type": "stream",
     "text": [
      "100%|████████████████████████████████████████████████████████████████████████████████| 547/547 [02:20<00:00,  3.90it/s]\n"
     ]
    },
    {
     "name": "stdout",
     "output_type": "stream",
     "text": [
      "Epoch-5:\n",
      "Train Accuracy: 96.01714324951172\n",
      "Train Loss: 0.08827053010463715\n"
     ]
    },
    {
     "name": "stderr",
     "output_type": "stream",
     "text": [
      "100%|██████████████████████████████████████████████████████████████████████████████| 7500/7500 [02:02<00:00, 61.35it/s]\n"
     ]
    },
    {
     "name": "stdout",
     "output_type": "stream",
     "text": [
      "Test Accuracy: 97.37333679199219\n"
     ]
    },
    {
     "data": {
      "image/png": "[encoded data removed]",
      "text/plain": [
       "<Figure size 640x480 with 2 Axes>"
      ]
     },
     "metadata": {},
     "output_type": "display_data"
    }
   ],
   "source": [
    "class InceptionV3Backboned(nn.Module):\n",
    "    def __init__(self):\n",
    "        super(InceptionV3Backboned, self).__init__()\n",
    "        # Load pretrained InceptionV3\n",
    "        self.inceptionv3 = torch.hub.load(\"pytorch/vision:v0.10.0\", \"inception_v3\", weights=\"DEFAULT\")\n",
    "        \n",
    "        # some other thing related with inception model\n",
    "        self.inceptionv3.aux_logits = False\n",
    "\n",
    "        # freezing the inception parameters\n",
    "        for param in self.inceptionv3.parameters():\n",
    "            param.requires_grad = False\n",
    "\n",
    "        self.relu = nn.ReLU()\n",
    "        self.dropout = nn.Dropout(0.3)\n",
    "\n",
    "        self.bn1 = nn.BatchNorm1d(1000)\n",
    "        self.linear1 = torch.nn.Linear(1000, 256)\n",
    "        self.bn2 = nn.BatchNorm1d(256)\n",
    "        self.linear2 = torch.nn.Linear(256, 1)\n",
    "\n",
    "    def forward(self, x):\n",
    "\n",
    "\n",
    "        x = self.inceptionv3(x)\n",
    "        x = self.relu(self.bn1(x))\n",
    "        x = self.dropout(x)\n",
    "        x = self.linear1(x)\n",
    "        x = self.relu(self.bn2(x))\n",
    "        x = self.dropout(x)\n",
    "        x = self.linear2(x)\n",
    "\n",
    "        return x\n",
    "    \n",
    "device = \"cuda\" if torch.cuda.is_available() else \"cpu\"\n",
    "epochs = 5\n",
    "input_size = 229\n",
    "\n",
    "batch_size = 32\n",
    "\n",
    "net = VGG19BNBackboned().to(device)\n",
    "optimizer = optim.Adam(net.parameters())\n",
    "criterion = nn.BCEWithLogitsLoss()\n",
    "\n",
    "start = time.time()\n",
    "\n",
    "inception_evals = experiment_pipeline(net, X_train, y_train, X_test, y_test, optimizer,\n",
    "                    criterion, batch_size, epochs, input_size, device)\n",
    "\n",
    "inception_evals[\"experiment_time\"] = time.time() - start\n",
    "\n",
    "torch.save(inception_evals, \"inception_v3_results.pt\")\n",
    "torch.save(net, \"inception_v3_model.pt\")"
   ]
  },
  {
   "cell_type": "markdown",
   "id": "0c4e32d8",
   "metadata": {},
   "source": [
    "## DenseNet"
   ]
  },
  {
   "cell_type": "code",
   "execution_count": 9,
   "id": "acdea933",
   "metadata": {},
   "outputs": [
    {
     "name": "stderr",
     "output_type": "stream",
     "text": [
      "Using cache found in C:\\Users\\erdem/.cache\\torch\\hub\\pytorch_vision_v0.10.0\n",
      "100%|████████████████████████████████████████████████████████████████████████████████| 547/547 [02:06<00:00,  4.31it/s]\n"
     ]
    },
    {
     "name": "stdout",
     "output_type": "stream",
     "text": [
      "Epoch-1:\n",
      "Train Accuracy: 96.44000244140625\n",
      "Train Loss: 0.02682405896484852\n"
     ]
    },
    {
     "name": "stderr",
     "output_type": "stream",
     "text": [
      "100%|████████████████████████████████████████████████████████████████████████████████| 547/547 [02:06<00:00,  4.32it/s]\n"
     ]
    },
    {
     "name": "stdout",
     "output_type": "stream",
     "text": [
      "Epoch-2:\n",
      "Train Accuracy: 97.31428527832031\n",
      "Train Loss: 0.1656486541032791\n"
     ]
    },
    {
     "name": "stderr",
     "output_type": "stream",
     "text": [
      "100%|████████████████████████████████████████████████████████████████████████████████| 547/547 [02:06<00:00,  4.32it/s]\n"
     ]
    },
    {
     "name": "stdout",
     "output_type": "stream",
     "text": [
      "Epoch-3:\n",
      "Train Accuracy: 97.72000122070312\n",
      "Train Loss: 0.016890352591872215\n"
     ]
    },
    {
     "name": "stderr",
     "output_type": "stream",
     "text": [
      "100%|████████████████████████████████████████████████████████████████████████████████| 547/547 [02:06<00:00,  4.33it/s]\n"
     ]
    },
    {
     "name": "stdout",
     "output_type": "stream",
     "text": [
      "Epoch-4:\n",
      "Train Accuracy: 97.72000122070312\n",
      "Train Loss: 0.022155923768877983\n"
     ]
    },
    {
     "name": "stderr",
     "output_type": "stream",
     "text": [
      "100%|████████████████████████████████████████████████████████████████████████████████| 547/547 [02:06<00:00,  4.33it/s]\n"
     ]
    },
    {
     "name": "stdout",
     "output_type": "stream",
     "text": [
      "Epoch-5:\n",
      "Train Accuracy: 97.95428466796875\n",
      "Train Loss: 0.008170857094228268\n"
     ]
    },
    {
     "name": "stderr",
     "output_type": "stream",
     "text": [
      "100%|██████████████████████████████████████████████████████████████████████████████| 7500/7500 [04:22<00:00, 28.60it/s]\n"
     ]
    },
    {
     "name": "stdout",
     "output_type": "stream",
     "text": [
      "Test Accuracy: 98.26667022705078\n"
     ]
    },
    {
     "data": {
      "image/png": "[encoded data removed]",
      "text/plain": [
       "<Figure size 640x480 with 2 Axes>"
      ]
     },
     "metadata": {},
     "output_type": "display_data"
    }
   ],
   "source": [
    "class DenseNetBackBoned(nn.Module):\n",
    "    def __init__(self):\n",
    "        super(DenseNetBackBoned, self).__init__()\n",
    "        # Load pretrained densenet\n",
    "        self.densenet = torch.hub.load(\"pytorch/vision:v0.10.0\", \"densenet161\", weights=\"DEFAULT\")\n",
    "\n",
    "        # freezing the densenet parameters\n",
    "        for param in self.densenet.parameters():\n",
    "            param.requires_grad = False\n",
    "\n",
    "        self.relu = nn.ReLU()\n",
    "        self.dropout = nn.Dropout(0.3)\n",
    "\n",
    "        self.bn1 = nn.BatchNorm1d(1000)\n",
    "        self.linear1 = torch.nn.Linear(1000, 256)\n",
    "        self.bn2 = nn.BatchNorm1d(256)\n",
    "        self.linear2 = torch.nn.Linear(256, 1)\n",
    "\n",
    "    def forward(self, x):\n",
    "\n",
    "\n",
    "        x = self.densenet(x)\n",
    "        x = self.relu(self.bn1(x))\n",
    "        x = self.dropout(x)\n",
    "        x = self.linear1(x)\n",
    "        x = self.relu(self.bn2(x))\n",
    "        x = self.dropout(x)\n",
    "        x = self.linear2(x)\n",
    "\n",
    "        return x\n",
    "    \n",
    "device = \"cuda\" if torch.cuda.is_available() else \"cpu\"\n",
    "# device = \"cpu\"\n",
    "epochs = 5\n",
    "input_size = 224\n",
    "\n",
    "batch_size = 32\n",
    "\n",
    "net = DenseNetBackBoned().to(device)\n",
    "optimizer = optim.Adam(net.parameters())\n",
    "criterion = nn.BCEWithLogitsLoss()\n",
    "\n",
    "start = time.time()\n",
    "\n",
    "densenet_evals = experiment_pipeline(net, X_train, y_train, X_test, y_test, optimizer,\n",
    "                    criterion, batch_size, epochs, input_size, device)\n",
    "\n",
    "densenet_evals[\"experiment_time\"] = time.time() - start\n",
    "\n",
    "torch.save(densenet_evals, \"densenet161_results.pt\")\n",
    "torch.save(net, \"densenet161_model.pt\")"
   ]
  },
  {
   "cell_type": "markdown",
   "id": "3aacfb29",
   "metadata": {},
   "source": [
    "## Resnet"
   ]
  },
  {
   "cell_type": "code",
   "execution_count": 10,
   "id": "3b7da55c",
   "metadata": {},
   "outputs": [
    {
     "name": "stderr",
     "output_type": "stream",
     "text": [
      "Using cache found in C:\\Users\\erdem/.cache\\torch\\hub\\pytorch_vision_v0.10.0\n",
      "100%|████████████████████████████████████████████████████████████████████████████████| 547/547 [00:54<00:00, 10.07it/s]\n"
     ]
    },
    {
     "name": "stdout",
     "output_type": "stream",
     "text": [
      "Epoch-1:\n",
      "Train Accuracy: 94.82286071777344\n",
      "Train Loss: 0.0736069530248642\n"
     ]
    },
    {
     "name": "stderr",
     "output_type": "stream",
     "text": [
      "100%|████████████████████████████████████████████████████████████████████████████████| 547/547 [00:54<00:00, 10.10it/s]\n"
     ]
    },
    {
     "name": "stdout",
     "output_type": "stream",
     "text": [
      "Epoch-2:\n",
      "Train Accuracy: 96.36000061035156\n",
      "Train Loss: 0.055422380566596985\n"
     ]
    },
    {
     "name": "stderr",
     "output_type": "stream",
     "text": [
      "100%|████████████████████████████████████████████████████████████████████████████████| 547/547 [00:54<00:00, 10.11it/s]\n"
     ]
    },
    {
     "name": "stdout",
     "output_type": "stream",
     "text": [
      "Epoch-3:\n",
      "Train Accuracy: 96.21142578125\n",
      "Train Loss: 0.06101767718791962\n"
     ]
    },
    {
     "name": "stderr",
     "output_type": "stream",
     "text": [
      "100%|████████████████████████████████████████████████████████████████████████████████| 547/547 [00:54<00:00, 10.10it/s]\n"
     ]
    },
    {
     "name": "stdout",
     "output_type": "stream",
     "text": [
      "Epoch-4:\n",
      "Train Accuracy: 96.4857177734375\n",
      "Train Loss: 0.016470089554786682\n"
     ]
    },
    {
     "name": "stderr",
     "output_type": "stream",
     "text": [
      "100%|████████████████████████████████████████████████████████████████████████████████| 547/547 [00:54<00:00, 10.07it/s]\n"
     ]
    },
    {
     "name": "stdout",
     "output_type": "stream",
     "text": [
      "Epoch-5:\n",
      "Train Accuracy: 96.9142837524414\n",
      "Train Loss: 0.010840230621397495\n"
     ]
    },
    {
     "name": "stderr",
     "output_type": "stream",
     "text": [
      "100%|██████████████████████████████████████████████████████████████████████████████| 7500/7500 [01:26<00:00, 86.58it/s]\n"
     ]
    },
    {
     "name": "stdout",
     "output_type": "stream",
     "text": [
      "Test Accuracy: 97.586669921875\n"
     ]
    },
    {
     "data": {
      "image/png": "[encoded data removed]",
      "text/plain": [
       "<Figure size 640x480 with 2 Axes>"
      ]
     },
     "metadata": {},
     "output_type": "display_data"
    }
   ],
   "source": [
    "class ResnetBackBoned(nn.Module):\n",
    "    def __init__(self):\n",
    "        super(ResnetBackBoned, self).__init__()\n",
    "        # Load pretrained resnet\n",
    "        self.resnet = torch.hub.load(\"pytorch/vision:v0.10.0\", \"resnet50\", weights=\"DEFAULT\")\n",
    "\n",
    "        # freezing the resnet parameters\n",
    "        for param in self.resnet.parameters():\n",
    "            param.requires_grad = False\n",
    "\n",
    "        self.relu = nn.ReLU()\n",
    "        self.dropout = nn.Dropout(0.3)\n",
    "\n",
    "        self.bn1 = nn.BatchNorm1d(1000)\n",
    "        self.linear1 = torch.nn.Linear(1000, 256)\n",
    "        self.bn2 = nn.BatchNorm1d(256)\n",
    "        self.linear2 = torch.nn.Linear(256, 1)\n",
    "\n",
    "    def forward(self, x):\n",
    "\n",
    "\n",
    "        x = self.resnet(x)\n",
    "        x = self.relu(self.bn1(x))\n",
    "        x = self.dropout(x)\n",
    "        x = self.linear1(x)\n",
    "        x = self.relu(self.bn2(x))\n",
    "        x = self.dropout(x)\n",
    "        x = self.linear2(x)\n",
    "\n",
    "        return x\n",
    "    \n",
    "device = \"cuda\" if torch.cuda.is_available() else \"cpu\"\n",
    "# device = \"cpu\"\n",
    "epochs = 5\n",
    "input_size = 224\n",
    "\n",
    "batch_size = 32\n",
    "\n",
    "net = ResnetBackBoned().to(device)\n",
    "optimizer = optim.Adam(net.parameters())\n",
    "criterion = nn.BCEWithLogitsLoss()\n",
    "\n",
    "start = time.time()\n",
    "\n",
    "resnet_evals = experiment_pipeline(net, X_train, y_train, X_test, y_test, optimizer,\n",
    "                    criterion, batch_size, epochs, input_size, device)\n",
    "\n",
    "resnet_evals[\"experiment_time\"] = time.time() - start\n",
    "\n",
    "torch.save(resnet_evals, \"resnet50_results.pt\")\n",
    "torch.save(net, \"resnet50_model.pt\")"
   ]
  },
  {
   "cell_type": "markdown",
   "id": "afbd4020",
   "metadata": {},
   "source": [
    "## MobileNetV3"
   ]
  },
  {
   "cell_type": "code",
   "execution_count": 11,
   "id": "6545d6d9",
   "metadata": {},
   "outputs": [
    {
     "name": "stderr",
     "output_type": "stream",
     "text": [
      "Using cache found in C:\\Users\\erdem/.cache\\torch\\hub\\pytorch_vision_v0.10.0\n",
      "100%|████████████████████████████████████████████████████████████████████████████████| 547/547 [00:20<00:00, 26.40it/s]\n"
     ]
    },
    {
     "name": "stdout",
     "output_type": "stream",
     "text": [
      "Epoch-1:\n",
      "Train Accuracy: 90.46857452392578\n",
      "Train Loss: 0.1615372896194458\n"
     ]
    },
    {
     "name": "stderr",
     "output_type": "stream",
     "text": [
      "100%|████████████████████████████████████████████████████████████████████████████████| 547/547 [00:20<00:00, 26.76it/s]\n"
     ]
    },
    {
     "name": "stdout",
     "output_type": "stream",
     "text": [
      "Epoch-2:\n",
      "Train Accuracy: 91.95428466796875\n",
      "Train Loss: 0.35112687945365906\n"
     ]
    },
    {
     "name": "stderr",
     "output_type": "stream",
     "text": [
      "100%|████████████████████████████████████████████████████████████████████████████████| 547/547 [00:20<00:00, 26.95it/s]\n"
     ]
    },
    {
     "name": "stdout",
     "output_type": "stream",
     "text": [
      "Epoch-3:\n",
      "Train Accuracy: 92.89143371582031\n",
      "Train Loss: 0.08077649027109146\n"
     ]
    },
    {
     "name": "stderr",
     "output_type": "stream",
     "text": [
      "100%|████████████████████████████████████████████████████████████████████████████████| 547/547 [00:20<00:00, 27.28it/s]\n"
     ]
    },
    {
     "name": "stdout",
     "output_type": "stream",
     "text": [
      "Epoch-4:\n",
      "Train Accuracy: 92.50285339355469\n",
      "Train Loss: 0.123106449842453\n"
     ]
    },
    {
     "name": "stderr",
     "output_type": "stream",
     "text": [
      "100%|████████████████████████████████████████████████████████████████████████████████| 547/547 [00:19<00:00, 27.39it/s]\n"
     ]
    },
    {
     "name": "stdout",
     "output_type": "stream",
     "text": [
      "Epoch-5:\n",
      "Train Accuracy: 93.05714416503906\n",
      "Train Loss: 0.23400309681892395\n"
     ]
    },
    {
     "name": "stderr",
     "output_type": "stream",
     "text": [
      "100%|██████████████████████████████████████████████████████████████████████████████| 7500/7500 [01:35<00:00, 78.28it/s]\n"
     ]
    },
    {
     "name": "stdout",
     "output_type": "stream",
     "text": [
      "Test Accuracy: 95.2800064086914\n"
     ]
    },
    {
     "data": {
      "image/png": "[encoded data removed]",
      "text/plain": [
       "<Figure size 640x480 with 2 Axes>"
      ]
     },
     "metadata": {},
     "output_type": "display_data"
    }
   ],
   "source": [
    "class MobileNetV3Backboned(nn.Module):\n",
    "    def __init__(self):\n",
    "        super(MobileNetV3Backboned, self).__init__()\n",
    "        # Load pretrained mobilenet\n",
    "        self.mobilenet = torch.hub.load(\"pytorch/vision:v0.10.0\", \"mobilenet_v3_large\", weights=\"DEFAULT\")## VGG19-BN\n",
    "\n",
    "        # freezing the mobilenet parameters\n",
    "        for param in self.mobilenet.parameters():\n",
    "            param.requires_grad = False\n",
    "\n",
    "        self.relu = nn.ReLU()\n",
    "        self.dropout = nn.Dropout(0.3)\n",
    "\n",
    "        self.bn1 = nn.BatchNorm1d(1000)\n",
    "        self.linear1 = torch.nn.Linear(1000, 256)\n",
    "        self.bn2 = nn.BatchNorm1d(256)\n",
    "        self.linear2 = torch.nn.Linear(256, 1)\n",
    "\n",
    "    def forward(self, x):\n",
    "\n",
    "\n",
    "        x = self.mobilenet(x)\n",
    "        x = self.relu(self.bn1(x))\n",
    "        x = self.dropout(x)\n",
    "        x = self.linear1(x)\n",
    "        x = self.relu(self.bn2(x))\n",
    "        x = self.dropout(x)\n",
    "        x = self.linear2(x)\n",
    "\n",
    "        return x\n",
    "    \n",
    "device = \"cuda\" if torch.cuda.is_available() else \"cpu\"\n",
    "epochs = 5\n",
    "input_size = 224\n",
    "\n",
    "batch_size = 32\n",
    "\n",
    "net = MobileNetV3Backboned().to(device)\n",
    "optimizer = optim.Adam(net.parameters())\n",
    "criterion = nn.BCEWithLogitsLoss()\n",
    "\n",
    "start = time.time()\n",
    "\n",
    "mobilenet_evals = experiment_pipeline(net, X_train, y_train, X_test, y_test, optimizer,\n",
    "                    criterion, batch_size, epochs, input_size, device)\n",
    "\n",
    "mobilenet_evals[\"experiment_time\"] = time.time() - start\n",
    "\n",
    "torch.save(mobilenet_evals, \"mobilenet_v3_large_results.pt\")\n",
    "torch.save(net, \"mobilenet_v3_large_model.pt\")"
   ]
  },
  {
   "cell_type": "markdown",
   "id": "d0541a80",
   "metadata": {},
   "source": [
    "# Results"
   ]
  },
  {
   "cell_type": "code",
   "execution_count": 12,
   "id": "d5b4aad9",
   "metadata": {},
   "outputs": [],
   "source": [
    "mobilenet_model = torch.load(\"mobilenet_v3_large_model.pt\")\n",
    "test_accuracy, model_preds, true_labels, train_accuracies, train_losses, exp_time = torch.load(\"mobilenet_v3_large_results.pt\")"
   ]
  }
 ],
 "metadata": {
  "kernelspec": {
   "display_name": "Python 3 (ipykernel)",
   "language": "python",
   "name": "python3"
  },
  "language_info": {
   "codemirror_mode": {
    "name": "ipython",
    "version": 3
   },
   "file_extension": ".py",
   "mimetype": "text/x-python",
   "name": "python",
   "nbconvert_exporter": "python",
   "pygments_lexer": "ipython3",
   "version": "3.9.16"
  }
 },
 "nbformat": 4,
 "nbformat_minor": 5
}
